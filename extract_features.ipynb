{
 "cells": [
  {
   "cell_type": "code",
   "execution_count": 1,
   "metadata": {},
   "outputs": [],
   "source": [
    "#load files\n",
    "import pandas as pd\n",
    "\n",
    "df = pd.read_csv(\"Subject02/Subject02_Aufnahme000.csv\", header = None)\n",
    "\n"
   ]
  },
  {
   "cell_type": "code",
   "execution_count": 2,
   "metadata": {},
   "outputs": [
    {
     "data": {
      "text/html": [
       "<div>\n",
       "<style scoped>\n",
       "    .dataframe tbody tr th:only-of-type {\n",
       "        vertical-align: middle;\n",
       "    }\n",
       "\n",
       "    .dataframe tbody tr th {\n",
       "        vertical-align: top;\n",
       "    }\n",
       "\n",
       "    .dataframe thead th {\n",
       "        text-align: right;\n",
       "    }\n",
       "</style>\n",
       "<table border=\"1\" class=\"dataframe\">\n",
       "  <thead>\n",
       "    <tr style=\"text-align: right;\">\n",
       "      <th></th>\n",
       "      <th>0</th>\n",
       "      <th>1</th>\n",
       "      <th>2</th>\n",
       "      <th>3</th>\n",
       "      <th>4</th>\n",
       "      <th>5</th>\n",
       "      <th>6</th>\n",
       "      <th>7</th>\n",
       "      <th>8</th>\n",
       "      <th>9</th>\n",
       "      <th>10</th>\n",
       "      <th>11</th>\n",
       "      <th>12</th>\n",
       "      <th>13</th>\n",
       "      <th>14</th>\n",
       "      <th>15</th>\n",
       "      <th>16</th>\n",
       "      <th>17</th>\n",
       "      <th>18</th>\n",
       "    </tr>\n",
       "  </thead>\n",
       "  <tbody>\n",
       "    <tr>\n",
       "      <th>count</th>\n",
       "      <td>6159.000000</td>\n",
       "      <td>6159.000000</td>\n",
       "      <td>6159.000000</td>\n",
       "      <td>6159.000000</td>\n",
       "      <td>6159.000000</td>\n",
       "      <td>6159.000000</td>\n",
       "      <td>6159.000000</td>\n",
       "      <td>6159.000000</td>\n",
       "      <td>6159.000000</td>\n",
       "      <td>6159.000000</td>\n",
       "      <td>6159.000000</td>\n",
       "      <td>6159.000000</td>\n",
       "      <td>6159.000000</td>\n",
       "      <td>6159.000000</td>\n",
       "      <td>6159.000000</td>\n",
       "      <td>6159.000000</td>\n",
       "      <td>6159.000000</td>\n",
       "      <td>6159.000000</td>\n",
       "      <td>6159.000000</td>\n",
       "    </tr>\n",
       "    <tr>\n",
       "      <th>mean</th>\n",
       "      <td>32765.652541</td>\n",
       "      <td>32754.460140</td>\n",
       "      <td>32761.881799</td>\n",
       "      <td>33129.536288</td>\n",
       "      <td>32797.409482</td>\n",
       "      <td>33226.344861</td>\n",
       "      <td>37241.313525</td>\n",
       "      <td>34146.647183</td>\n",
       "      <td>26059.572333</td>\n",
       "      <td>29267.264166</td>\n",
       "      <td>29454.845592</td>\n",
       "      <td>29337.087189</td>\n",
       "      <td>31811.394057</td>\n",
       "      <td>28937.338691</td>\n",
       "      <td>29069.405423</td>\n",
       "      <td>29033.670726</td>\n",
       "      <td>33274.628673</td>\n",
       "      <td>36781.398928</td>\n",
       "      <td>35069.213184</td>\n",
       "    </tr>\n",
       "    <tr>\n",
       "      <th>std</th>\n",
       "      <td>433.822625</td>\n",
       "      <td>870.294872</td>\n",
       "      <td>226.999305</td>\n",
       "      <td>470.438965</td>\n",
       "      <td>1588.179139</td>\n",
       "      <td>1001.107135</td>\n",
       "      <td>1018.665637</td>\n",
       "      <td>1358.348576</td>\n",
       "      <td>2447.239967</td>\n",
       "      <td>2783.860674</td>\n",
       "      <td>12228.898727</td>\n",
       "      <td>5195.993694</td>\n",
       "      <td>185.595088</td>\n",
       "      <td>3403.586244</td>\n",
       "      <td>7303.666742</td>\n",
       "      <td>8579.071910</td>\n",
       "      <td>905.107704</td>\n",
       "      <td>1385.085615</td>\n",
       "      <td>1449.959324</td>\n",
       "    </tr>\n",
       "    <tr>\n",
       "      <th>min</th>\n",
       "      <td>28785.000000</td>\n",
       "      <td>26290.000000</td>\n",
       "      <td>30043.000000</td>\n",
       "      <td>28294.000000</td>\n",
       "      <td>13857.000000</td>\n",
       "      <td>31280.000000</td>\n",
       "      <td>33020.000000</td>\n",
       "      <td>27416.000000</td>\n",
       "      <td>19324.000000</td>\n",
       "      <td>18366.000000</td>\n",
       "      <td>80.000000</td>\n",
       "      <td>10856.000000</td>\n",
       "      <td>31312.000000</td>\n",
       "      <td>14229.000000</td>\n",
       "      <td>6546.000000</td>\n",
       "      <td>5501.000000</td>\n",
       "      <td>31384.000000</td>\n",
       "      <td>33132.000000</td>\n",
       "      <td>30873.000000</td>\n",
       "    </tr>\n",
       "    <tr>\n",
       "      <th>25%</th>\n",
       "      <td>32680.000000</td>\n",
       "      <td>32570.000000</td>\n",
       "      <td>32673.000000</td>\n",
       "      <td>33015.000000</td>\n",
       "      <td>32530.000000</td>\n",
       "      <td>32564.000000</td>\n",
       "      <td>36921.000000</td>\n",
       "      <td>33714.000000</td>\n",
       "      <td>25248.000000</td>\n",
       "      <td>27837.000000</td>\n",
       "      <td>28787.000000</td>\n",
       "      <td>27271.000000</td>\n",
       "      <td>31675.000000</td>\n",
       "      <td>27438.000000</td>\n",
       "      <td>25656.000000</td>\n",
       "      <td>25059.000000</td>\n",
       "      <td>32801.000000</td>\n",
       "      <td>36314.000000</td>\n",
       "      <td>34260.000000</td>\n",
       "    </tr>\n",
       "    <tr>\n",
       "      <th>50%</th>\n",
       "      <td>32775.000000</td>\n",
       "      <td>32811.000000</td>\n",
       "      <td>32761.000000</td>\n",
       "      <td>33157.000000</td>\n",
       "      <td>32795.000000</td>\n",
       "      <td>33080.000000</td>\n",
       "      <td>37137.000000</td>\n",
       "      <td>34386.000000</td>\n",
       "      <td>27192.000000</td>\n",
       "      <td>29224.000000</td>\n",
       "      <td>32300.000000</td>\n",
       "      <td>29680.000000</td>\n",
       "      <td>31816.000000</td>\n",
       "      <td>29232.000000</td>\n",
       "      <td>29420.000000</td>\n",
       "      <td>29472.000000</td>\n",
       "      <td>33112.000000</td>\n",
       "      <td>37104.000000</td>\n",
       "      <td>34644.000000</td>\n",
       "    </tr>\n",
       "    <tr>\n",
       "      <th>75%</th>\n",
       "      <td>32859.000000</td>\n",
       "      <td>33095.000000</td>\n",
       "      <td>32851.000000</td>\n",
       "      <td>33287.000000</td>\n",
       "      <td>33066.000000</td>\n",
       "      <td>33724.000000</td>\n",
       "      <td>37348.000000</td>\n",
       "      <td>34757.000000</td>\n",
       "      <td>27741.000000</td>\n",
       "      <td>30622.000000</td>\n",
       "      <td>35361.000000</td>\n",
       "      <td>32169.000000</td>\n",
       "      <td>31950.000000</td>\n",
       "      <td>30834.000000</td>\n",
       "      <td>31972.000000</td>\n",
       "      <td>33374.000000</td>\n",
       "      <td>33508.000000</td>\n",
       "      <td>37288.000000</td>\n",
       "      <td>35718.000000</td>\n",
       "    </tr>\n",
       "    <tr>\n",
       "      <th>max</th>\n",
       "      <td>36269.000000</td>\n",
       "      <td>36733.000000</td>\n",
       "      <td>37546.000000</td>\n",
       "      <td>36593.000000</td>\n",
       "      <td>56237.000000</td>\n",
       "      <td>38578.000000</td>\n",
       "      <td>49216.000000</td>\n",
       "      <td>37168.000000</td>\n",
       "      <td>28360.000000</td>\n",
       "      <td>39724.000000</td>\n",
       "      <td>56676.000000</td>\n",
       "      <td>46381.000000</td>\n",
       "      <td>32357.000000</td>\n",
       "      <td>39568.000000</td>\n",
       "      <td>61216.000000</td>\n",
       "      <td>63496.000000</td>\n",
       "      <td>40032.000000</td>\n",
       "      <td>46304.000000</td>\n",
       "      <td>39284.000000</td>\n",
       "    </tr>\n",
       "  </tbody>\n",
       "</table>\n",
       "</div>"
      ],
      "text/plain": [
       "                 0             1             2             3             4   \\\n",
       "count   6159.000000   6159.000000   6159.000000   6159.000000   6159.000000   \n",
       "mean   32765.652541  32754.460140  32761.881799  33129.536288  32797.409482   \n",
       "std      433.822625    870.294872    226.999305    470.438965   1588.179139   \n",
       "min    28785.000000  26290.000000  30043.000000  28294.000000  13857.000000   \n",
       "25%    32680.000000  32570.000000  32673.000000  33015.000000  32530.000000   \n",
       "50%    32775.000000  32811.000000  32761.000000  33157.000000  32795.000000   \n",
       "75%    32859.000000  33095.000000  32851.000000  33287.000000  33066.000000   \n",
       "max    36269.000000  36733.000000  37546.000000  36593.000000  56237.000000   \n",
       "\n",
       "                 5             6             7             8             9   \\\n",
       "count   6159.000000   6159.000000   6159.000000   6159.000000   6159.000000   \n",
       "mean   33226.344861  37241.313525  34146.647183  26059.572333  29267.264166   \n",
       "std     1001.107135   1018.665637   1358.348576   2447.239967   2783.860674   \n",
       "min    31280.000000  33020.000000  27416.000000  19324.000000  18366.000000   \n",
       "25%    32564.000000  36921.000000  33714.000000  25248.000000  27837.000000   \n",
       "50%    33080.000000  37137.000000  34386.000000  27192.000000  29224.000000   \n",
       "75%    33724.000000  37348.000000  34757.000000  27741.000000  30622.000000   \n",
       "max    38578.000000  49216.000000  37168.000000  28360.000000  39724.000000   \n",
       "\n",
       "                 10            11            12            13            14  \\\n",
       "count   6159.000000   6159.000000   6159.000000   6159.000000   6159.000000   \n",
       "mean   29454.845592  29337.087189  31811.394057  28937.338691  29069.405423   \n",
       "std    12228.898727   5195.993694    185.595088   3403.586244   7303.666742   \n",
       "min       80.000000  10856.000000  31312.000000  14229.000000   6546.000000   \n",
       "25%    28787.000000  27271.000000  31675.000000  27438.000000  25656.000000   \n",
       "50%    32300.000000  29680.000000  31816.000000  29232.000000  29420.000000   \n",
       "75%    35361.000000  32169.000000  31950.000000  30834.000000  31972.000000   \n",
       "max    56676.000000  46381.000000  32357.000000  39568.000000  61216.000000   \n",
       "\n",
       "                 15            16            17            18  \n",
       "count   6159.000000   6159.000000   6159.000000   6159.000000  \n",
       "mean   29033.670726  33274.628673  36781.398928  35069.213184  \n",
       "std     8579.071910    905.107704   1385.085615   1449.959324  \n",
       "min     5501.000000  31384.000000  33132.000000  30873.000000  \n",
       "25%    25059.000000  32801.000000  36314.000000  34260.000000  \n",
       "50%    29472.000000  33112.000000  37104.000000  34644.000000  \n",
       "75%    33374.000000  33508.000000  37288.000000  35718.000000  \n",
       "max    63496.000000  40032.000000  46304.000000  39284.000000  "
      ]
     },
     "execution_count": 2,
     "metadata": {},
     "output_type": "execute_result"
    }
   ],
   "source": [
    "#extract time features\n",
    "df.describe()"
   ]
  },
  {
   "cell_type": "code",
   "execution_count": 8,
   "metadata": {},
   "outputs": [],
   "source": [
    "#we need only 9,10,11 column corresponding to ACCELEROMETER LOWER X,Y,Z\n",
    "\n",
    "\n",
    "df = df.drop([0,1,2,3,4,5,6,7,8,12,13,14,15,16,17,18], axis=1)"
   ]
  },
  {
   "cell_type": "code",
   "execution_count": 9,
   "metadata": {},
   "outputs": [
    {
     "data": {
      "text/plain": [
       "Int64Index([9, 10, 11, 12, 13, 14, 15, 16, 17, 18], dtype='int64')"
      ]
     },
     "execution_count": 9,
     "metadata": {},
     "output_type": "execute_result"
    }
   ],
   "source": [
    "df.columns"
   ]
  },
  {
   "cell_type": "code",
   "execution_count": 11,
   "metadata": {},
   "outputs": [],
   "source": [
    "df = df.drop([12,13,14,15,16,17,18], axis=1)"
   ]
  },
  {
   "cell_type": "code",
   "execution_count": 14,
   "metadata": {},
   "outputs": [
    {
     "data": {
      "text/html": [
       "<div>\n",
       "<style scoped>\n",
       "    .dataframe tbody tr th:only-of-type {\n",
       "        vertical-align: middle;\n",
       "    }\n",
       "\n",
       "    .dataframe tbody tr th {\n",
       "        vertical-align: top;\n",
       "    }\n",
       "\n",
       "    .dataframe thead th {\n",
       "        text-align: right;\n",
       "    }\n",
       "</style>\n",
       "<table border=\"1\" class=\"dataframe\">\n",
       "  <thead>\n",
       "    <tr style=\"text-align: right;\">\n",
       "      <th></th>\n",
       "      <th>AX</th>\n",
       "      <th>AY</th>\n",
       "      <th>AZ</th>\n",
       "    </tr>\n",
       "  </thead>\n",
       "  <tbody>\n",
       "    <tr>\n",
       "      <th>0</th>\n",
       "      <td>29068</td>\n",
       "      <td>29264</td>\n",
       "      <td>28408</td>\n",
       "    </tr>\n",
       "    <tr>\n",
       "      <th>1</th>\n",
       "      <td>29068</td>\n",
       "      <td>29264</td>\n",
       "      <td>28408</td>\n",
       "    </tr>\n",
       "    <tr>\n",
       "      <th>2</th>\n",
       "      <td>29068</td>\n",
       "      <td>29264</td>\n",
       "      <td>28408</td>\n",
       "    </tr>\n",
       "    <tr>\n",
       "      <th>3</th>\n",
       "      <td>29068</td>\n",
       "      <td>29264</td>\n",
       "      <td>28408</td>\n",
       "    </tr>\n",
       "    <tr>\n",
       "      <th>4</th>\n",
       "      <td>29068</td>\n",
       "      <td>29264</td>\n",
       "      <td>28408</td>\n",
       "    </tr>\n",
       "    <tr>\n",
       "      <th>5</th>\n",
       "      <td>29068</td>\n",
       "      <td>29264</td>\n",
       "      <td>28408</td>\n",
       "    </tr>\n",
       "    <tr>\n",
       "      <th>6</th>\n",
       "      <td>29068</td>\n",
       "      <td>29264</td>\n",
       "      <td>28408</td>\n",
       "    </tr>\n",
       "    <tr>\n",
       "      <th>7</th>\n",
       "      <td>29068</td>\n",
       "      <td>29264</td>\n",
       "      <td>28408</td>\n",
       "    </tr>\n",
       "    <tr>\n",
       "      <th>8</th>\n",
       "      <td>29068</td>\n",
       "      <td>29264</td>\n",
       "      <td>28408</td>\n",
       "    </tr>\n",
       "    <tr>\n",
       "      <th>9</th>\n",
       "      <td>29068</td>\n",
       "      <td>29264</td>\n",
       "      <td>28408</td>\n",
       "    </tr>\n",
       "    <tr>\n",
       "      <th>10</th>\n",
       "      <td>29268</td>\n",
       "      <td>28950</td>\n",
       "      <td>28104</td>\n",
       "    </tr>\n",
       "    <tr>\n",
       "      <th>11</th>\n",
       "      <td>29268</td>\n",
       "      <td>28950</td>\n",
       "      <td>28104</td>\n",
       "    </tr>\n",
       "    <tr>\n",
       "      <th>12</th>\n",
       "      <td>29268</td>\n",
       "      <td>28950</td>\n",
       "      <td>28104</td>\n",
       "    </tr>\n",
       "    <tr>\n",
       "      <th>13</th>\n",
       "      <td>29268</td>\n",
       "      <td>28950</td>\n",
       "      <td>28104</td>\n",
       "    </tr>\n",
       "    <tr>\n",
       "      <th>14</th>\n",
       "      <td>29268</td>\n",
       "      <td>28950</td>\n",
       "      <td>28104</td>\n",
       "    </tr>\n",
       "    <tr>\n",
       "      <th>15</th>\n",
       "      <td>29268</td>\n",
       "      <td>28950</td>\n",
       "      <td>28104</td>\n",
       "    </tr>\n",
       "    <tr>\n",
       "      <th>16</th>\n",
       "      <td>29268</td>\n",
       "      <td>28950</td>\n",
       "      <td>28104</td>\n",
       "    </tr>\n",
       "    <tr>\n",
       "      <th>17</th>\n",
       "      <td>29268</td>\n",
       "      <td>28950</td>\n",
       "      <td>28104</td>\n",
       "    </tr>\n",
       "    <tr>\n",
       "      <th>18</th>\n",
       "      <td>29268</td>\n",
       "      <td>28950</td>\n",
       "      <td>28104</td>\n",
       "    </tr>\n",
       "    <tr>\n",
       "      <th>19</th>\n",
       "      <td>29268</td>\n",
       "      <td>28950</td>\n",
       "      <td>28104</td>\n",
       "    </tr>\n",
       "  </tbody>\n",
       "</table>\n",
       "</div>"
      ],
      "text/plain": [
       "       AX     AY     AZ\n",
       "0   29068  29264  28408\n",
       "1   29068  29264  28408\n",
       "2   29068  29264  28408\n",
       "3   29068  29264  28408\n",
       "4   29068  29264  28408\n",
       "5   29068  29264  28408\n",
       "6   29068  29264  28408\n",
       "7   29068  29264  28408\n",
       "8   29068  29264  28408\n",
       "9   29068  29264  28408\n",
       "10  29268  28950  28104\n",
       "11  29268  28950  28104\n",
       "12  29268  28950  28104\n",
       "13  29268  28950  28104\n",
       "14  29268  28950  28104\n",
       "15  29268  28950  28104\n",
       "16  29268  28950  28104\n",
       "17  29268  28950  28104\n",
       "18  29268  28950  28104\n",
       "19  29268  28950  28104"
      ]
     },
     "execution_count": 14,
     "metadata": {},
     "output_type": "execute_result"
    }
   ],
   "source": [
    "df.head(20)"
   ]
  },
  {
   "cell_type": "code",
   "execution_count": 13,
   "metadata": {},
   "outputs": [],
   "source": [
    "df.columns = [\"AX\",\"AY\",\"AZ\"]"
   ]
  },
  {
   "cell_type": "code",
   "execution_count": 18,
   "metadata": {},
   "outputs": [],
   "source": [
    "df = df.iloc[::10]"
   ]
  },
  {
   "cell_type": "code",
   "execution_count": 55,
   "metadata": {},
   "outputs": [
    {
     "data": {
      "text/plain": [
       "array(['AX', 'AY', 'AZ'], dtype=object)"
      ]
     },
     "execution_count": 55,
     "metadata": {},
     "output_type": "execute_result"
    }
   ],
   "source": [
    "df.columns.values"
   ]
  },
  {
   "cell_type": "code",
   "execution_count": 79,
   "metadata": {},
   "outputs": [
    {
     "data": {
      "text/plain": [
       "[<matplotlib.lines.Line2D at 0x22bd9f867b8>]"
      ]
     },
     "execution_count": 79,
     "metadata": {},
     "output_type": "execute_result"
    },
    {
     "data": {
      "image/png": "[encoded data removed]",
      "text/plain": [
       "<Figure size 432x288 with 1 Axes>"
      ]
     },
     "metadata": {
      "needs_background": "light"
     },
     "output_type": "display_data"
    }
   ],
   "source": [
    "#plot df\n",
    "\n",
    "%matplotlib inline\n",
    "from matplotlib import pyplot as plt\n",
    "\n",
    "plt.plot(df.index, df[\"AX\"])\n"
   ]
  },
  {
   "cell_type": "code",
   "execution_count": 80,
   "metadata": {},
   "outputs": [
    {
     "data": {
      "text/plain": [
       "[<matplotlib.lines.Line2D at 0x22bda025dd8>]"
      ]
     },
     "execution_count": 80,
     "metadata": {},
     "output_type": "execute_result"
    },
    {
     "data": {
      "image/png": "[encoded data removed]",
      "text/plain": [
       "<Figure size 432x288 with 1 Axes>"
      ]
     },
     "metadata": {
      "needs_background": "light"
     },
     "output_type": "display_data"
    }
   ],
   "source": [
    "plt.plot(df.index, df[\"AY\"])\n"
   ]
  },
  {
   "cell_type": "code",
   "execution_count": 81,
   "metadata": {
    "scrolled": true
   },
   "outputs": [
    {
     "data": {
      "text/plain": [
       "[<matplotlib.lines.Line2D at 0x22bda095be0>]"
      ]
     },
     "execution_count": 81,
     "metadata": {},
     "output_type": "execute_result"
    },
    {
     "data": {
      "image/png": "[encoded data removed]",
      "text/plain": [
       "<Figure size 432x288 with 1 Axes>"
      ]
     },
     "metadata": {
      "needs_background": "light"
     },
     "output_type": "display_data"
    }
   ],
   "source": [
    "plt.plot(df.index, df[\"AZ\"])\n"
   ]
  },
  {
   "cell_type": "code",
   "execution_count": 82,
   "metadata": {},
   "outputs": [],
   "source": [
    "#sampled at 100Hz\n",
    "#to make a window of 1 sec, without overlap, we need 100 readings in one window\n",
    "\n",
    "def extract_features(df, file_name):\n",
    "    \n",
    "    stats_list = [file_name]    \n",
    "    \n",
    "\n",
    "    #Mean, variance, mean absolute deviation and root mean square are statistical indicators which give information about sample distribution.\n",
    "    #mean\n",
    "    stats_list.extend(df.mean().tolist())\n",
    "\n",
    "    #variance\n",
    "    stats_list.extend(df.var().tolist())\n",
    "\n",
    "    #mean absolute deviation\n",
    "    stats_list.extend(df.mad().tolist())\n",
    "\n",
    "    #root mean square\n",
    "    rms = np.sqrt((df**2).sum()/len(df))\n",
    "    stats_list.extend(rms.tolist())\n",
    "\n",
    "    #iqr. It measures the spread of a data set over a range\n",
    "    stats_list.extend((df.quantile(0.75) - df.quantile(0.25)).tolist())\n",
    "\n",
    "    #75th percentile (PE)\n",
    "    stats_list.extend(df.quantile(0.75).tolist())\n",
    "\n",
    "    #kurtosis (peakedness of the distribution)\n",
    "    stats_list.extend(df.kurtosis().tolist())\n",
    "\n",
    "    #Max - Min\n",
    "    stats_list.extend((df.max() - df.min()).tolist())\n",
    "\n",
    "    #Signal magnitude area (normalized sum of accelerometer components)\n",
    "#     sma = (df.abs().sum()).sum()/len(df)\n",
    "#     stats_list.append(sma)\n",
    "    \n",
    "    return(stats_list)"
   ]
  },
  {
   "cell_type": "code",
   "execution_count": 108,
   "metadata": {},
   "outputs": [],
   "source": [
    "#Make a dataframe\n",
    "\n",
    "def split_and_process_file(df, file_name):    \n",
    "    two_D_list = []\n",
    "    \n",
    "    #Split the df into 1sec windows (100 rows per window)\n",
    "    window_size = 100\n",
    "\n",
    "    for i in range(df.shape[0]//window_size):\n",
    "        start_index = i*window_size\n",
    "        end_index = start_index+window_size\n",
    "\n",
    "        #call extract features function\n",
    "        stats_list = extract_features(df[start_index:end_index], file_name)\n",
    "        two_D_list.append(stats_list)\n",
    "    \n",
    "    return two_D_list\n",
    "\n",
    "\n",
    "def process_file(df, file_name):\n",
    "    \n",
    "    #we need only 9,10,11 column corresponding to ACCELEROMETER LOWER X,Y,Z\n",
    "    df = df.drop([0,1,2,3,4,5,6,7,8,12,13,14,15,16,17,18], axis=1)\n",
    "    \n",
    "    #name the columns appropriately (axis-wise)\n",
    "    df.columns = [\"AX\",\"AY\",\"AZ\"]\n",
    "    \n",
    "    #Keep every 10th row as frequency of accelerometer data is 100Hz\n",
    "    df = df.iloc[::10]    \n",
    "\n",
    "    \n",
    "    #generate a list for extracted_features column names\n",
    "    features = [\"mean\", \"var\", \"mad\", \"rms\", \"iqr\", \"PE\", \"kurtosis\", \"MM\"]\n",
    "\n",
    "    stats_list_header = [\"file_name\"]\n",
    "   \n",
    "    for feature in features:\n",
    "        for col in df.columns.values:\n",
    "            stats_list_header.append(col+\"_\"+feature)\n",
    "\n",
    "    stats_list_header.append(\"SMA\")\n",
    "\n",
    "\n",
    "    #Make the df\n",
    "    values = split_and_process_file(df, file_name)\n",
    "    \n",
    "    extracted_features_df = pd.DataFrame(values, columns = stats_list_header)\n",
    "    \n",
    "    return extracted_features_df\n",
    "\n"
   ]
  },
  {
   "cell_type": "code",
   "execution_count": 104,
   "metadata": {},
   "outputs": [],
   "source": [
    "# load files\n",
    "\n",
    "def load_and_process_subject_files(subject, num_of_files):\n",
    "    \n",
    "    subject_features = pd.DataFrame()\n",
    "    \n",
    "    for i in range(num_of_files):\n",
    "        num = f\"{i:03d}\"\n",
    "        file = subject+\"/\"+subject+\"_Aufnahme\"+num+\".csv\"\n",
    "        \n",
    "        df = pd.read_csv(file, header=None)\n",
    "                \n",
    "        extracted_features_df = process_file(df, file)\n",
    "        \n",
    "        subject_features = subject_features.append(extracted_features_df, ignore_index = True)\n",
    "        \n",
    "    return subject_features\n"
   ]
  },
  {
   "cell_type": "code",
   "execution_count": 110,
   "metadata": {},
   "outputs": [],
   "source": [
    "sub2_features = load_and_process_subject_files(\"Subject02\", 440)"
   ]
  },
  {
   "cell_type": "code",
   "execution_count": 111,
   "metadata": {},
   "outputs": [
    {
     "data": {
      "text/plain": [
       "(974, 23)"
      ]
     },
     "execution_count": 111,
     "metadata": {},
     "output_type": "execute_result"
    }
   ],
   "source": [
    "sub2_features.shape"
   ]
  },
  {
   "cell_type": "code",
   "execution_count": 112,
   "metadata": {},
   "outputs": [],
   "source": [
    "sub2_features.to_csv(\"sub2_features.csv\", index=False)"
   ]
  },
  {
   "cell_type": "code",
   "execution_count": 2,
   "metadata": {},
   "outputs": [
    {
     "data": {
      "text/html": [
       "<div>\n",
       "<style scoped>\n",
       "    .dataframe tbody tr th:only-of-type {\n",
       "        vertical-align: middle;\n",
       "    }\n",
       "\n",
       "    .dataframe tbody tr th {\n",
       "        vertical-align: top;\n",
       "    }\n",
       "\n",
       "    .dataframe thead th {\n",
       "        text-align: right;\n",
       "    }\n",
       "</style>\n",
       "<table border=\"1\" class=\"dataframe\">\n",
       "  <thead>\n",
       "    <tr style=\"text-align: right;\">\n",
       "      <th></th>\n",
       "      <th>A</th>\n",
       "      <th>B</th>\n",
       "    </tr>\n",
       "  </thead>\n",
       "  <tbody>\n",
       "    <tr>\n",
       "      <th>0</th>\n",
       "      <td>1</td>\n",
       "      <td>2</td>\n",
       "    </tr>\n",
       "    <tr>\n",
       "      <th>1</th>\n",
       "      <td>2</td>\n",
       "      <td>4</td>\n",
       "    </tr>\n",
       "    <tr>\n",
       "      <th>2</th>\n",
       "      <td>3</td>\n",
       "      <td>6</td>\n",
       "    </tr>\n",
       "    <tr>\n",
       "      <th>3</th>\n",
       "      <td>4</td>\n",
       "      <td>8</td>\n",
       "    </tr>\n",
       "    <tr>\n",
       "      <th>4</th>\n",
       "      <td>5</td>\n",
       "      <td>10</td>\n",
       "    </tr>\n",
       "  </tbody>\n",
       "</table>\n",
       "</div>"
      ],
      "text/plain": [
       "   A   B\n",
       "0  1   2\n",
       "1  2   4\n",
       "2  3   6\n",
       "3  4   8\n",
       "4  5  10"
      ]
     },
     "execution_count": 2,
     "metadata": {},
     "output_type": "execute_result"
    }
   ],
   "source": [
    "import pandas as pd\n",
    "\n",
    "dict = {'A': [1,2,3,4,5],\n",
    "        'B': [2,4,6,8,10]\n",
    "       }\n",
    "\n",
    "df1 = pd.DataFrame(dict)\n",
    "\n",
    "df1"
   ]
  },
  {
   "cell_type": "code",
   "execution_count": 4,
   "metadata": {},
   "outputs": [
    {
     "data": {
      "text/plain": [
       "A    3.0\n",
       "B    6.0\n",
       "dtype: float64"
      ]
     },
     "execution_count": 4,
     "metadata": {},
     "output_type": "execute_result"
    }
   ],
   "source": [
    "df1.mean()"
   ]
  },
  {
   "cell_type": "code",
   "execution_count": 8,
   "metadata": {},
   "outputs": [],
   "source": [
    "import numpy as np\n",
    "rms = np.sqrt((df1**2).sum()/len(df1))"
   ]
  },
  {
   "cell_type": "code",
   "execution_count": 10,
   "metadata": {},
   "outputs": [
    {
     "data": {
      "text/plain": [
       "[3.3166247903554, 6.6332495807108]"
      ]
     },
     "execution_count": 10,
     "metadata": {},
     "output_type": "execute_result"
    }
   ],
   "source": [
    "rms.tolist()"
   ]
  },
  {
   "cell_type": "code",
   "execution_count": 11,
   "metadata": {},
   "outputs": [],
   "source": [
    "#root mean square\n",
    "    rms = lambda x: np.sqrt((x**2).sum()/len(x))\n",
    "    "
   ]
  },
  {
   "cell_type": "code",
   "execution_count": 12,
   "metadata": {},
   "outputs": [
    {
     "data": {
      "text/plain": [
       "[3.3166247903554, 6.6332495807108]"
      ]
     },
     "execution_count": 12,
     "metadata": {},
     "output_type": "execute_result"
    }
   ],
   "source": [
    "rms(df1).tolist()"
   ]
  },
  {
   "cell_type": "code",
   "execution_count": null,
   "metadata": {},
   "outputs": [],
   "source": []
  }
 ],
 "metadata": {
  "kernelspec": {
   "display_name": "Python 3",
   "language": "python",
   "name": "python3"
  },
  "language_info": {
   "codemirror_mode": {
    "name": "ipython",
    "version": 3
   },
   "file_extension": ".py",
   "mimetype": "text/x-python",
   "name": "python",
   "nbconvert_exporter": "python",
   "pygments_lexer": "ipython3",
   "version": "3.6.10"
  }
 },
 "nbformat": 4,
 "nbformat_minor": 4
}
